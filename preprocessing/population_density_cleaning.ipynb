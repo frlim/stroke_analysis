{
 "cells": [
  {
   "cell_type": "code",
   "execution_count": 1,
   "metadata": {},
   "outputs": [],
   "source": [
    "import pandas as pd"
   ]
  },
  {
   "cell_type": "markdown",
   "metadata": {},
   "source": [
    "### Clean Population Estimates"
   ]
  },
  {
   "cell_type": "code",
   "execution_count": 19,
   "metadata": {},
   "outputs": [],
   "source": [
    "# Read in Census Population 2019 estimates\n",
    "pop = pd.read_csv(\"data/county_pop.csv\", encoding='latin-1')\n",
    "pop = pop[[\"STATE\", \"COUNTY\", \"STNAME\", \"CTYNAME\", \"POPESTIMATE2019\"]]"
   ]
  },
  {
   "cell_type": "code",
   "execution_count": 20,
   "metadata": {},
   "outputs": [],
   "source": [
    "# Define states im our model\n",
    "ne_states = ['New York', 'Connecticut', 'Massachusetts', 'New Jersey', 'New Hampshire',\n",
    "            'Rhode Island', 'Maine', 'Vermont']"
   ]
  },
  {
   "cell_type": "code",
   "execution_count": 21,
   "metadata": {},
   "outputs": [],
   "source": [
    "# Keep only NE states\n",
    "pop = pop[pop[\"STNAME\"].isin(ne_states)]"
   ]
  },
  {
   "cell_type": "code",
   "execution_count": 22,
   "metadata": {},
   "outputs": [],
   "source": [
    "# Define functions to generate fips code\n",
    "def fix_state_code(code):\n",
    "    if len(str(code)) != 2:\n",
    "        new_code = \"0\" + str(code)\n",
    "        return new_code\n",
    "    else:\n",
    "        return str(code)"
   ]
  },
  {
   "cell_type": "code",
   "execution_count": 23,
   "metadata": {},
   "outputs": [],
   "source": [
    "def fix_county_code(code):\n",
    "    if len(str(code)) == 1:\n",
    "        new_code = \"00\" + str(code)\n",
    "        return new_code\n",
    "    elif len(str(code)) == 2:\n",
    "        new_code = \"0\" + str(code)\n",
    "        return new_code\n",
    "    else:\n",
    "        return str(code)"
   ]
  },
  {
   "cell_type": "code",
   "execution_count": 24,
   "metadata": {},
   "outputs": [],
   "source": [
    "pop['STATE_CD'] = pop.apply(lambda row : fix_state_code(row['STATE']), axis = 1) \n",
    "pop['COUNTY_CD'] = pop.apply(lambda row : fix_county_code(row['COUNTY']), axis = 1)\n",
    "pop['FIPS'] = pop['STATE_CD'] + pop['COUNTY_CD']\n",
    "pop = pop[['STNAME', 'CTYNAME', 'POPESTIMATE2019', 'FIPS']].reset_index(drop=True)"
   ]
  },
  {
   "cell_type": "code",
   "execution_count": 25,
   "metadata": {},
   "outputs": [],
   "source": [
    "# Remove full state\n",
    "pop = pop[pop[\"STNAME\"] != pop[\"CTYNAME\"]]"
   ]
  },
  {
   "cell_type": "code",
   "execution_count": 26,
   "metadata": {},
   "outputs": [
    {
     "data": {
      "text/html": [
       "<div>\n",
       "<style scoped>\n",
       "    .dataframe tbody tr th:only-of-type {\n",
       "        vertical-align: middle;\n",
       "    }\n",
       "\n",
       "    .dataframe tbody tr th {\n",
       "        vertical-align: top;\n",
       "    }\n",
       "\n",
       "    .dataframe thead th {\n",
       "        text-align: right;\n",
       "    }\n",
       "</style>\n",
       "<table border=\"1\" class=\"dataframe\">\n",
       "  <thead>\n",
       "    <tr style=\"text-align: right;\">\n",
       "      <th></th>\n",
       "      <th>STNAME</th>\n",
       "      <th>CTYNAME</th>\n",
       "      <th>POPESTIMATE2019</th>\n",
       "      <th>FIPS</th>\n",
       "    </tr>\n",
       "  </thead>\n",
       "  <tbody>\n",
       "    <tr>\n",
       "      <th>1</th>\n",
       "      <td>Connecticut</td>\n",
       "      <td>Fairfield County</td>\n",
       "      <td>943332</td>\n",
       "      <td>09001</td>\n",
       "    </tr>\n",
       "    <tr>\n",
       "      <th>2</th>\n",
       "      <td>Connecticut</td>\n",
       "      <td>Hartford County</td>\n",
       "      <td>891720</td>\n",
       "      <td>09003</td>\n",
       "    </tr>\n",
       "    <tr>\n",
       "      <th>3</th>\n",
       "      <td>Connecticut</td>\n",
       "      <td>Litchfield County</td>\n",
       "      <td>180333</td>\n",
       "      <td>09005</td>\n",
       "    </tr>\n",
       "    <tr>\n",
       "      <th>4</th>\n",
       "      <td>Connecticut</td>\n",
       "      <td>Middlesex County</td>\n",
       "      <td>162436</td>\n",
       "      <td>09007</td>\n",
       "    </tr>\n",
       "    <tr>\n",
       "      <th>5</th>\n",
       "      <td>Connecticut</td>\n",
       "      <td>New Haven County</td>\n",
       "      <td>854757</td>\n",
       "      <td>09009</td>\n",
       "    </tr>\n",
       "  </tbody>\n",
       "</table>\n",
       "</div>"
      ],
      "text/plain": [
       "        STNAME            CTYNAME  POPESTIMATE2019   FIPS\n",
       "1  Connecticut   Fairfield County           943332  09001\n",
       "2  Connecticut    Hartford County           891720  09003\n",
       "3  Connecticut  Litchfield County           180333  09005\n",
       "4  Connecticut   Middlesex County           162436  09007\n",
       "5  Connecticut   New Haven County           854757  09009"
      ]
     },
     "execution_count": 26,
     "metadata": {},
     "output_type": "execute_result"
    }
   ],
   "source": [
    "pop.head()"
   ]
  },
  {
   "cell_type": "code",
   "execution_count": 28,
   "metadata": {},
   "outputs": [
    {
     "data": {
      "text/plain": [
       "(150, 4)"
      ]
     },
     "execution_count": 28,
     "metadata": {},
     "output_type": "execute_result"
    }
   ],
   "source": [
    "pop.shape"
   ]
  },
  {
   "cell_type": "code",
   "execution_count": 27,
   "metadata": {},
   "outputs": [],
   "source": [
    "# Save as cleaned csv\n",
    "#pop.to_csv(\"data/cleaned_county_pop.csv\")"
   ]
  },
  {
   "cell_type": "markdown",
   "metadata": {},
   "source": [
    "### Clean Land Area"
   ]
  },
  {
   "cell_type": "code",
   "execution_count": 15,
   "metadata": {},
   "outputs": [],
   "source": [
    "land = pd.read_excel(\"data/county_land_data.xls\", dtype={'STCOU': object})"
   ]
  },
  {
   "cell_type": "code",
   "execution_count": 16,
   "metadata": {},
   "outputs": [
    {
     "data": {
      "text/html": [
       "<div>\n",
       "<style scoped>\n",
       "    .dataframe tbody tr th:only-of-type {\n",
       "        vertical-align: middle;\n",
       "    }\n",
       "\n",
       "    .dataframe tbody tr th {\n",
       "        vertical-align: top;\n",
       "    }\n",
       "\n",
       "    .dataframe thead th {\n",
       "        text-align: right;\n",
       "    }\n",
       "</style>\n",
       "<table border=\"1\" class=\"dataframe\">\n",
       "  <thead>\n",
       "    <tr style=\"text-align: right;\">\n",
       "      <th></th>\n",
       "      <th>Areaname</th>\n",
       "      <th>STCOU</th>\n",
       "      <th>LND010190F</th>\n",
       "      <th>LND010190D</th>\n",
       "      <th>LND010190N1</th>\n",
       "      <th>LND010190N2</th>\n",
       "      <th>LND010200F</th>\n",
       "      <th>LND010200D</th>\n",
       "      <th>LND010200N1</th>\n",
       "      <th>LND010200N2</th>\n",
       "      <th>...</th>\n",
       "      <th>LND110210N1</th>\n",
       "      <th>LND110210N2</th>\n",
       "      <th>LND210190F</th>\n",
       "      <th>LND210190D</th>\n",
       "      <th>LND210190N1</th>\n",
       "      <th>LND210190N2</th>\n",
       "      <th>LND210200F</th>\n",
       "      <th>LND210200D</th>\n",
       "      <th>LND210200N1</th>\n",
       "      <th>LND210200N2</th>\n",
       "    </tr>\n",
       "  </thead>\n",
       "  <tbody>\n",
       "    <tr>\n",
       "      <th>0</th>\n",
       "      <td>UNITED STATES</td>\n",
       "      <td>00000</td>\n",
       "      <td>0</td>\n",
       "      <td>3787425.08</td>\n",
       "      <td>0</td>\n",
       "      <td>0</td>\n",
       "      <td>0</td>\n",
       "      <td>3794083.06</td>\n",
       "      <td>0</td>\n",
       "      <td>0</td>\n",
       "      <td>...</td>\n",
       "      <td>0</td>\n",
       "      <td>0</td>\n",
       "      <td>0</td>\n",
       "      <td>251083.35</td>\n",
       "      <td>0</td>\n",
       "      <td>0</td>\n",
       "      <td>0</td>\n",
       "      <td>256644.62</td>\n",
       "      <td>0</td>\n",
       "      <td>0</td>\n",
       "    </tr>\n",
       "    <tr>\n",
       "      <th>1</th>\n",
       "      <td>ALABAMA</td>\n",
       "      <td>01000</td>\n",
       "      <td>0</td>\n",
       "      <td>52422.94</td>\n",
       "      <td>0</td>\n",
       "      <td>0</td>\n",
       "      <td>0</td>\n",
       "      <td>52419.02</td>\n",
       "      <td>0</td>\n",
       "      <td>0</td>\n",
       "      <td>...</td>\n",
       "      <td>0</td>\n",
       "      <td>0</td>\n",
       "      <td>0</td>\n",
       "      <td>1672.71</td>\n",
       "      <td>0</td>\n",
       "      <td>0</td>\n",
       "      <td>0</td>\n",
       "      <td>1675.01</td>\n",
       "      <td>0</td>\n",
       "      <td>0</td>\n",
       "    </tr>\n",
       "    <tr>\n",
       "      <th>2</th>\n",
       "      <td>Autauga, AL</td>\n",
       "      <td>01001</td>\n",
       "      <td>0</td>\n",
       "      <td>604.49</td>\n",
       "      <td>0</td>\n",
       "      <td>0</td>\n",
       "      <td>0</td>\n",
       "      <td>604.45</td>\n",
       "      <td>0</td>\n",
       "      <td>0</td>\n",
       "      <td>...</td>\n",
       "      <td>0</td>\n",
       "      <td>0</td>\n",
       "      <td>0</td>\n",
       "      <td>8.48</td>\n",
       "      <td>0</td>\n",
       "      <td>0</td>\n",
       "      <td>0</td>\n",
       "      <td>8.48</td>\n",
       "      <td>0</td>\n",
       "      <td>0</td>\n",
       "    </tr>\n",
       "    <tr>\n",
       "      <th>3</th>\n",
       "      <td>Baldwin, AL</td>\n",
       "      <td>01003</td>\n",
       "      <td>0</td>\n",
       "      <td>2027.08</td>\n",
       "      <td>0</td>\n",
       "      <td>0</td>\n",
       "      <td>0</td>\n",
       "      <td>2026.93</td>\n",
       "      <td>0</td>\n",
       "      <td>0</td>\n",
       "      <td>...</td>\n",
       "      <td>0</td>\n",
       "      <td>0</td>\n",
       "      <td>0</td>\n",
       "      <td>430.55</td>\n",
       "      <td>0</td>\n",
       "      <td>0</td>\n",
       "      <td>0</td>\n",
       "      <td>430.58</td>\n",
       "      <td>0</td>\n",
       "      <td>0</td>\n",
       "    </tr>\n",
       "    <tr>\n",
       "      <th>4</th>\n",
       "      <td>Barbour, AL</td>\n",
       "      <td>01005</td>\n",
       "      <td>0</td>\n",
       "      <td>904.59</td>\n",
       "      <td>0</td>\n",
       "      <td>0</td>\n",
       "      <td>0</td>\n",
       "      <td>904.52</td>\n",
       "      <td>0</td>\n",
       "      <td>0</td>\n",
       "      <td>...</td>\n",
       "      <td>0</td>\n",
       "      <td>0</td>\n",
       "      <td>0</td>\n",
       "      <td>19.59</td>\n",
       "      <td>0</td>\n",
       "      <td>0</td>\n",
       "      <td>0</td>\n",
       "      <td>19.61</td>\n",
       "      <td>0</td>\n",
       "      <td>0</td>\n",
       "    </tr>\n",
       "  </tbody>\n",
       "</table>\n",
       "<p>5 rows × 34 columns</p>\n",
       "</div>"
      ],
      "text/plain": [
       "        Areaname  STCOU  LND010190F  LND010190D  LND010190N1  LND010190N2  \\\n",
       "0  UNITED STATES  00000           0  3787425.08            0            0   \n",
       "1        ALABAMA  01000           0    52422.94            0            0   \n",
       "2    Autauga, AL  01001           0      604.49            0            0   \n",
       "3    Baldwin, AL  01003           0     2027.08            0            0   \n",
       "4    Barbour, AL  01005           0      904.59            0            0   \n",
       "\n",
       "   LND010200F  LND010200D  LND010200N1  LND010200N2  ...  LND110210N1  \\\n",
       "0           0  3794083.06            0            0  ...            0   \n",
       "1           0    52419.02            0            0  ...            0   \n",
       "2           0      604.45            0            0  ...            0   \n",
       "3           0     2026.93            0            0  ...            0   \n",
       "4           0      904.52            0            0  ...            0   \n",
       "\n",
       "   LND110210N2  LND210190F  LND210190D  LND210190N1  LND210190N2  LND210200F  \\\n",
       "0            0           0   251083.35            0            0           0   \n",
       "1            0           0     1672.71            0            0           0   \n",
       "2            0           0        8.48            0            0           0   \n",
       "3            0           0      430.55            0            0           0   \n",
       "4            0           0       19.59            0            0           0   \n",
       "\n",
       "   LND210200D  LND210200N1  LND210200N2  \n",
       "0   256644.62            0            0  \n",
       "1     1675.01            0            0  \n",
       "2        8.48            0            0  \n",
       "3      430.58            0            0  \n",
       "4       19.61            0            0  \n",
       "\n",
       "[5 rows x 34 columns]"
      ]
     },
     "execution_count": 16,
     "metadata": {},
     "output_type": "execute_result"
    }
   ],
   "source": [
    "land.head()"
   ]
  },
  {
   "cell_type": "code",
   "execution_count": 17,
   "metadata": {},
   "outputs": [],
   "source": [
    "# Only keep columns we want: land area in square miles (2010)\n",
    "land = land[[\"Areaname\", \"STCOU\", \"LND110210D\"]]"
   ]
  },
  {
   "cell_type": "code",
   "execution_count": 18,
   "metadata": {},
   "outputs": [
    {
     "data": {
      "text/html": [
       "<div>\n",
       "<style scoped>\n",
       "    .dataframe tbody tr th:only-of-type {\n",
       "        vertical-align: middle;\n",
       "    }\n",
       "\n",
       "    .dataframe tbody tr th {\n",
       "        vertical-align: top;\n",
       "    }\n",
       "\n",
       "    .dataframe thead th {\n",
       "        text-align: right;\n",
       "    }\n",
       "</style>\n",
       "<table border=\"1\" class=\"dataframe\">\n",
       "  <thead>\n",
       "    <tr style=\"text-align: right;\">\n",
       "      <th></th>\n",
       "      <th>Areaname</th>\n",
       "      <th>STCOU</th>\n",
       "      <th>LND110210D</th>\n",
       "    </tr>\n",
       "  </thead>\n",
       "  <tbody>\n",
       "    <tr>\n",
       "      <th>0</th>\n",
       "      <td>UNITED STATES</td>\n",
       "      <td>00000</td>\n",
       "      <td>3531905.43</td>\n",
       "    </tr>\n",
       "    <tr>\n",
       "      <th>1</th>\n",
       "      <td>ALABAMA</td>\n",
       "      <td>01000</td>\n",
       "      <td>50645.33</td>\n",
       "    </tr>\n",
       "    <tr>\n",
       "      <th>2</th>\n",
       "      <td>Autauga, AL</td>\n",
       "      <td>01001</td>\n",
       "      <td>594.44</td>\n",
       "    </tr>\n",
       "    <tr>\n",
       "      <th>3</th>\n",
       "      <td>Baldwin, AL</td>\n",
       "      <td>01003</td>\n",
       "      <td>1589.78</td>\n",
       "    </tr>\n",
       "    <tr>\n",
       "      <th>4</th>\n",
       "      <td>Barbour, AL</td>\n",
       "      <td>01005</td>\n",
       "      <td>884.88</td>\n",
       "    </tr>\n",
       "  </tbody>\n",
       "</table>\n",
       "</div>"
      ],
      "text/plain": [
       "        Areaname  STCOU  LND110210D\n",
       "0  UNITED STATES  00000  3531905.43\n",
       "1        ALABAMA  01000    50645.33\n",
       "2    Autauga, AL  01001      594.44\n",
       "3    Baldwin, AL  01003     1589.78\n",
       "4    Barbour, AL  01005      884.88"
      ]
     },
     "execution_count": 18,
     "metadata": {},
     "output_type": "execute_result"
    }
   ],
   "source": [
    "land.head()"
   ]
  },
  {
   "cell_type": "code",
   "execution_count": 29,
   "metadata": {},
   "outputs": [],
   "source": [
    "# Merge with population counts\n",
    "merged = pop.merge(land, how='inner', left_on=\"FIPS\", right_on = \"STCOU\")"
   ]
  },
  {
   "cell_type": "code",
   "execution_count": 30,
   "metadata": {},
   "outputs": [
    {
     "data": {
      "text/html": [
       "<div>\n",
       "<style scoped>\n",
       "    .dataframe tbody tr th:only-of-type {\n",
       "        vertical-align: middle;\n",
       "    }\n",
       "\n",
       "    .dataframe tbody tr th {\n",
       "        vertical-align: top;\n",
       "    }\n",
       "\n",
       "    .dataframe thead th {\n",
       "        text-align: right;\n",
       "    }\n",
       "</style>\n",
       "<table border=\"1\" class=\"dataframe\">\n",
       "  <thead>\n",
       "    <tr style=\"text-align: right;\">\n",
       "      <th></th>\n",
       "      <th>STNAME</th>\n",
       "      <th>CTYNAME</th>\n",
       "      <th>POPESTIMATE2019</th>\n",
       "      <th>FIPS</th>\n",
       "      <th>Areaname</th>\n",
       "      <th>STCOU</th>\n",
       "      <th>LND110210D</th>\n",
       "    </tr>\n",
       "  </thead>\n",
       "  <tbody>\n",
       "    <tr>\n",
       "      <th>0</th>\n",
       "      <td>Connecticut</td>\n",
       "      <td>Fairfield County</td>\n",
       "      <td>943332</td>\n",
       "      <td>09001</td>\n",
       "      <td>Fairfield, CT</td>\n",
       "      <td>09001</td>\n",
       "      <td>624.89</td>\n",
       "    </tr>\n",
       "    <tr>\n",
       "      <th>1</th>\n",
       "      <td>Connecticut</td>\n",
       "      <td>Hartford County</td>\n",
       "      <td>891720</td>\n",
       "      <td>09003</td>\n",
       "      <td>Hartford, CT</td>\n",
       "      <td>09003</td>\n",
       "      <td>735.10</td>\n",
       "    </tr>\n",
       "    <tr>\n",
       "      <th>2</th>\n",
       "      <td>Connecticut</td>\n",
       "      <td>Litchfield County</td>\n",
       "      <td>180333</td>\n",
       "      <td>09005</td>\n",
       "      <td>Litchfield, CT</td>\n",
       "      <td>09005</td>\n",
       "      <td>920.56</td>\n",
       "    </tr>\n",
       "    <tr>\n",
       "      <th>3</th>\n",
       "      <td>Connecticut</td>\n",
       "      <td>Middlesex County</td>\n",
       "      <td>162436</td>\n",
       "      <td>09007</td>\n",
       "      <td>Middlesex, CT</td>\n",
       "      <td>09007</td>\n",
       "      <td>369.30</td>\n",
       "    </tr>\n",
       "    <tr>\n",
       "      <th>4</th>\n",
       "      <td>Connecticut</td>\n",
       "      <td>New Haven County</td>\n",
       "      <td>854757</td>\n",
       "      <td>09009</td>\n",
       "      <td>New Haven, CT</td>\n",
       "      <td>09009</td>\n",
       "      <td>604.51</td>\n",
       "    </tr>\n",
       "  </tbody>\n",
       "</table>\n",
       "</div>"
      ],
      "text/plain": [
       "        STNAME            CTYNAME  POPESTIMATE2019   FIPS        Areaname  \\\n",
       "0  Connecticut   Fairfield County           943332  09001   Fairfield, CT   \n",
       "1  Connecticut    Hartford County           891720  09003    Hartford, CT   \n",
       "2  Connecticut  Litchfield County           180333  09005  Litchfield, CT   \n",
       "3  Connecticut   Middlesex County           162436  09007   Middlesex, CT   \n",
       "4  Connecticut   New Haven County           854757  09009   New Haven, CT   \n",
       "\n",
       "   STCOU  LND110210D  \n",
       "0  09001      624.89  \n",
       "1  09003      735.10  \n",
       "2  09005      920.56  \n",
       "3  09007      369.30  \n",
       "4  09009      604.51  "
      ]
     },
     "execution_count": 30,
     "metadata": {},
     "output_type": "execute_result"
    }
   ],
   "source": [
    "merged.head()"
   ]
  },
  {
   "cell_type": "code",
   "execution_count": 31,
   "metadata": {},
   "outputs": [
    {
     "data": {
      "text/plain": [
       "(150, 7)"
      ]
     },
     "execution_count": 31,
     "metadata": {},
     "output_type": "execute_result"
    }
   ],
   "source": [
    "merged.shape"
   ]
  },
  {
   "cell_type": "code",
   "execution_count": 32,
   "metadata": {},
   "outputs": [],
   "source": [
    "# Drop redundant columns and rename\n",
    "merged = merged[[\"FIPS\", \"STNAME\", \"CTYNAME\", \"POPESTIMATE2019\", \"LND110210D\"]]"
   ]
  },
  {
   "cell_type": "code",
   "execution_count": 34,
   "metadata": {},
   "outputs": [],
   "source": [
    "merged.columns = [\"fips\", \"state\", \"county\", \"pop\", \"land_area\"]"
   ]
  },
  {
   "cell_type": "code",
   "execution_count": 35,
   "metadata": {},
   "outputs": [
    {
     "data": {
      "text/html": [
       "<div>\n",
       "<style scoped>\n",
       "    .dataframe tbody tr th:only-of-type {\n",
       "        vertical-align: middle;\n",
       "    }\n",
       "\n",
       "    .dataframe tbody tr th {\n",
       "        vertical-align: top;\n",
       "    }\n",
       "\n",
       "    .dataframe thead th {\n",
       "        text-align: right;\n",
       "    }\n",
       "</style>\n",
       "<table border=\"1\" class=\"dataframe\">\n",
       "  <thead>\n",
       "    <tr style=\"text-align: right;\">\n",
       "      <th></th>\n",
       "      <th>fips</th>\n",
       "      <th>state</th>\n",
       "      <th>county</th>\n",
       "      <th>pop</th>\n",
       "      <th>land_area</th>\n",
       "    </tr>\n",
       "  </thead>\n",
       "  <tbody>\n",
       "    <tr>\n",
       "      <th>0</th>\n",
       "      <td>09001</td>\n",
       "      <td>Connecticut</td>\n",
       "      <td>Fairfield County</td>\n",
       "      <td>943332</td>\n",
       "      <td>624.89</td>\n",
       "    </tr>\n",
       "    <tr>\n",
       "      <th>1</th>\n",
       "      <td>09003</td>\n",
       "      <td>Connecticut</td>\n",
       "      <td>Hartford County</td>\n",
       "      <td>891720</td>\n",
       "      <td>735.10</td>\n",
       "    </tr>\n",
       "    <tr>\n",
       "      <th>2</th>\n",
       "      <td>09005</td>\n",
       "      <td>Connecticut</td>\n",
       "      <td>Litchfield County</td>\n",
       "      <td>180333</td>\n",
       "      <td>920.56</td>\n",
       "    </tr>\n",
       "    <tr>\n",
       "      <th>3</th>\n",
       "      <td>09007</td>\n",
       "      <td>Connecticut</td>\n",
       "      <td>Middlesex County</td>\n",
       "      <td>162436</td>\n",
       "      <td>369.30</td>\n",
       "    </tr>\n",
       "    <tr>\n",
       "      <th>4</th>\n",
       "      <td>09009</td>\n",
       "      <td>Connecticut</td>\n",
       "      <td>New Haven County</td>\n",
       "      <td>854757</td>\n",
       "      <td>604.51</td>\n",
       "    </tr>\n",
       "  </tbody>\n",
       "</table>\n",
       "</div>"
      ],
      "text/plain": [
       "    fips        state             county     pop  land_area\n",
       "0  09001  Connecticut   Fairfield County  943332     624.89\n",
       "1  09003  Connecticut    Hartford County  891720     735.10\n",
       "2  09005  Connecticut  Litchfield County  180333     920.56\n",
       "3  09007  Connecticut   Middlesex County  162436     369.30\n",
       "4  09009  Connecticut   New Haven County  854757     604.51"
      ]
     },
     "execution_count": 35,
     "metadata": {},
     "output_type": "execute_result"
    }
   ],
   "source": [
    "merged.head()"
   ]
  },
  {
   "cell_type": "code",
   "execution_count": 36,
   "metadata": {},
   "outputs": [],
   "source": [
    "# Calculate population density\n",
    "merged[\"pop_density\"] = merged[\"pop\"]/merged[\"land_area\"]"
   ]
  },
  {
   "cell_type": "code",
   "execution_count": 37,
   "metadata": {},
   "outputs": [
    {
     "data": {
      "text/html": [
       "<div>\n",
       "<style scoped>\n",
       "    .dataframe tbody tr th:only-of-type {\n",
       "        vertical-align: middle;\n",
       "    }\n",
       "\n",
       "    .dataframe tbody tr th {\n",
       "        vertical-align: top;\n",
       "    }\n",
       "\n",
       "    .dataframe thead th {\n",
       "        text-align: right;\n",
       "    }\n",
       "</style>\n",
       "<table border=\"1\" class=\"dataframe\">\n",
       "  <thead>\n",
       "    <tr style=\"text-align: right;\">\n",
       "      <th></th>\n",
       "      <th>fips</th>\n",
       "      <th>state</th>\n",
       "      <th>county</th>\n",
       "      <th>pop</th>\n",
       "      <th>land_area</th>\n",
       "      <th>pop_density</th>\n",
       "    </tr>\n",
       "  </thead>\n",
       "  <tbody>\n",
       "    <tr>\n",
       "      <th>0</th>\n",
       "      <td>09001</td>\n",
       "      <td>Connecticut</td>\n",
       "      <td>Fairfield County</td>\n",
       "      <td>943332</td>\n",
       "      <td>624.89</td>\n",
       "      <td>1509.596889</td>\n",
       "    </tr>\n",
       "    <tr>\n",
       "      <th>1</th>\n",
       "      <td>09003</td>\n",
       "      <td>Connecticut</td>\n",
       "      <td>Hartford County</td>\n",
       "      <td>891720</td>\n",
       "      <td>735.10</td>\n",
       "      <td>1213.059448</td>\n",
       "    </tr>\n",
       "    <tr>\n",
       "      <th>2</th>\n",
       "      <td>09005</td>\n",
       "      <td>Connecticut</td>\n",
       "      <td>Litchfield County</td>\n",
       "      <td>180333</td>\n",
       "      <td>920.56</td>\n",
       "      <td>195.894890</td>\n",
       "    </tr>\n",
       "    <tr>\n",
       "      <th>3</th>\n",
       "      <td>09007</td>\n",
       "      <td>Connecticut</td>\n",
       "      <td>Middlesex County</td>\n",
       "      <td>162436</td>\n",
       "      <td>369.30</td>\n",
       "      <td>439.848362</td>\n",
       "    </tr>\n",
       "    <tr>\n",
       "      <th>4</th>\n",
       "      <td>09009</td>\n",
       "      <td>Connecticut</td>\n",
       "      <td>New Haven County</td>\n",
       "      <td>854757</td>\n",
       "      <td>604.51</td>\n",
       "      <td>1413.966684</td>\n",
       "    </tr>\n",
       "  </tbody>\n",
       "</table>\n",
       "</div>"
      ],
      "text/plain": [
       "    fips        state             county     pop  land_area  pop_density\n",
       "0  09001  Connecticut   Fairfield County  943332     624.89  1509.596889\n",
       "1  09003  Connecticut    Hartford County  891720     735.10  1213.059448\n",
       "2  09005  Connecticut  Litchfield County  180333     920.56   195.894890\n",
       "3  09007  Connecticut   Middlesex County  162436     369.30   439.848362\n",
       "4  09009  Connecticut   New Haven County  854757     604.51  1413.966684"
      ]
     },
     "execution_count": 37,
     "metadata": {},
     "output_type": "execute_result"
    }
   ],
   "source": [
    "merged.head()"
   ]
  },
  {
   "cell_type": "code",
   "execution_count": 39,
   "metadata": {},
   "outputs": [],
   "source": [
    "# Write to csv\n",
    "merged.to_csv(\"data/cleaned_county_pop_density.csv\", index=False)"
   ]
  }
 ],
 "metadata": {
  "kernelspec": {
   "display_name": "Python 3",
   "language": "python",
   "name": "python3"
  },
  "language_info": {
   "codemirror_mode": {
    "name": "ipython",
    "version": 3
   },
   "file_extension": ".py",
   "mimetype": "text/x-python",
   "name": "python",
   "nbconvert_exporter": "python",
   "pygments_lexer": "ipython3",
   "version": "3.7.6"
  }
 },
 "nbformat": 4,
 "nbformat_minor": 4
}
